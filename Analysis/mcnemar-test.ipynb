{
 "cells": [
  {
   "cell_type": "markdown",
   "metadata": {},
   "source": [
    "# McNemar Test in Python"
   ]
  },
  {
   "cell_type": "markdown",
   "metadata": {},
   "source": [
    "This notebook demonstrates how to perform a McNemar test using the `statsmodels` library in Python."
   ]
  },
  {
   "cell_type": "code",
   "execution_count": null,
   "metadata": {},
   "outputs": [],
   "source": [
    "# Note: The necessary packages are installed via the requirements.txt file.\n",
    "# !pip install statsmodels"
   ]
  },
  {
   "cell_type": "code",
   "execution_count": null,
   "metadata": {},
   "outputs": [],
   "source": [
    "from statsmodels.stats.contingency_tables import mcnemar\n",
    "\n",
    "# Define the contingency table\n",
    "pre_test = [20, 15]  # Passed pre-test (Yes), Failed pre-test (Yes)\n",
    "post_test = [5, 10]   # Passed post-test (No), Failed post-test (No)\n",
    "contingency_table = [pre_test, post_test]\n",
    "\n",
    "# Perform McNemar test\n",
    "result = mcnemar(contingency_table)\n",
    "print(result)"
   ]
  },
  {
   "cell_type": "code",
   "execution_count": null,
   "metadata": {},
   "outputs": [],
   "source": [
    "# Extract the statistic and p-value from the result\n",
    "statistic = result.statistic\n",
    "p_value = result.pvalue\n",
    "\n",
    "# Compare p-value to significance level alpha\n",
    "alpha = 0.05\n",
    "if p_value < alpha:\n",
    "    print(\"\\nReject null hypothesis\")\n",
    "else:\n",
    "    print(\"\\nDo not reject null hypothesis\")"
   ]
  }
 ],
 "metadata": {
  "kernelspec": {
   "display_name": "Python 3",
   "language": "python",
   "name": "python3"
  },
  "language_info": {
   "name": "python"
  }
 },
 "nbformat": 4,
 "nbformat_minor": 2
}
