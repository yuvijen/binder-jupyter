{
 "cells": [
  {
   "cell_type": "markdown",
   "metadata": {},
   "source": [
    "# McNemar Test in Python\n",
    "<img src=\"../yuvijen-logo.png\" style=\"height:40px; vertical-align:middle; margin-right:8px;\">"
   ]
  },
  {
   "cell_type": "markdown",
   "metadata": {},
   "source": [
    "This notebook demonstrates how to perform a McNemar test using the `statsmodels` library in Python."
   ]
  },
  {
   "cell_type": "code",
   "execution_count": 7,
   "metadata": {},
   "outputs": [],
   "source": [
    "!pip install -q statsmodels"
   ]
  },
  {
   "cell_type": "code",
   "execution_count": 8,
   "metadata": {},
   "outputs": [
    {
     "name": "stdout",
     "output_type": "stream",
     "text": [
      "pvalue      0.04138946533203125\n",
      "statistic   5.0\n"
     ]
    }
   ],
   "source": [
    "from statsmodels.stats.contingency_tables import mcnemar\n",
    "\n",
    "# Define the contingency table\n",
    "pre_test = [20, 15]  # Passed pre-test (Yes), Failed pre-test (Yes)\n",
    "post_test = [5, 10]   # Passed post-test (No), Failed post-test (No)\n",
    "contingency_table = [pre_test, post_test]\n",
    "\n",
    "# Perform McNemar test\n",
    "result = mcnemar(contingency_table)\n",
    "print(result)"
   ]
  },
  {
   "cell_type": "code",
   "execution_count": 9,
   "metadata": {},
   "outputs": [
    {
     "name": "stdout",
     "output_type": "stream",
     "text": [
      "\n",
      "Reject null hypothesis\n"
     ]
    }
   ],
   "source": [
    "# Extract the statistic and p-value from the result\n",
    "statistic = result.statistic\n",
    "p_value = result.pvalue\n",
    "\n",
    "# Compare p-value to significance level alpha\n",
    "alpha = 0.05\n",
    "if p_value < alpha:\n",
    "    print(\"\\nReject null hypothesis\")\n",
    "else:\n",
    "    print(\"\\nDo not reject null hypothesis\")"
   ]
  },
  {
   "cell_type": "code",
   "execution_count": null,
   "metadata": {},
   "outputs": [],
   "source": []
  }
 ],
 "metadata": {
  "kernelspec": {
   "display_name": "Python 3 (ipykernel)",
   "language": "python",
   "name": "python3"
  },
  "language_info": {
   "codemirror_mode": {
    "name": "ipython",
    "version": 3
   },
   "file_extension": ".py",
   "mimetype": "text/x-python",
   "name": "python",
   "nbconvert_exporter": "python",
   "pygments_lexer": "ipython3",
   "version": "3.12.2"
  }
 },
 "nbformat": 4,
 "nbformat_minor": 4
}
